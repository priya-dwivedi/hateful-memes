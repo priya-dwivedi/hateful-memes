{
  "nbformat": 4,
  "nbformat_minor": 0,
  "metadata": {
    "colab": {
      "name": "Generate-Visual-Embeddings.ipynb",
      "provenance": [],
      "collapsed_sections": [],
      "machine_shape": "hm"
    },
    "kernelspec": {
      "name": "python3",
      "display_name": "Python 3"
    },
    "language_info": {
      "name": "python"
    },
    "accelerator": "GPU"
  },
  "cells": [
    {
      "cell_type": "markdown",
      "metadata": {
        "id": "Uyr7VlYdhY2J"
      },
      "source": [
        "## Install Detectron2"
      ]
    },
    {
      "cell_type": "code",
      "metadata": {
        "id": "_P5ZDpfKXlHX",
        "colab": {
          "base_uri": "https://localhost:8080/",
          "height": 1000
        },
        "outputId": "e720cc40-71ad-4ee1-eb99-61fe2921ed2a"
      },
      "source": [
        "# See https://detectron2.readthedocs.io/tutorials/install.html for instructions\n",
        "# %%capture\n",
        "!pip install pyyaml==5.1\n",
        "!pip uninstall --yes torch\n",
        "!pip install torch==1.8.0+cu101 torchvision==0.9.0+cu101 -f https://download.pytorch.org/whl/torch_stable.html\n",
        "!pip install detectron2 -f https://dl.fbaipublicfiles.com/detectron2/wheels/cu101/torch1.8/index.html"
      ],
      "execution_count": 1,
      "outputs": [
        {
          "output_type": "stream",
          "text": [
            "Collecting pyyaml==5.1\n",
            "  Downloading PyYAML-5.1.tar.gz (274 kB)\n",
            "\u001b[?25l\r\u001b[K     |█▏                              | 10 kB 28.6 MB/s eta 0:00:01\r\u001b[K     |██▍                             | 20 kB 22.5 MB/s eta 0:00:01\r\u001b[K     |███▋                            | 30 kB 11.2 MB/s eta 0:00:01\r\u001b[K     |████▉                           | 40 kB 9.1 MB/s eta 0:00:01\r\u001b[K     |██████                          | 51 kB 4.2 MB/s eta 0:00:01\r\u001b[K     |███████▏                        | 61 kB 4.6 MB/s eta 0:00:01\r\u001b[K     |████████▍                       | 71 kB 4.7 MB/s eta 0:00:01\r\u001b[K     |█████████▋                      | 81 kB 4.8 MB/s eta 0:00:01\r\u001b[K     |██████████▊                     | 92 kB 5.1 MB/s eta 0:00:01\r\u001b[K     |████████████                    | 102 kB 5.1 MB/s eta 0:00:01\r\u001b[K     |█████████████▏                  | 112 kB 5.1 MB/s eta 0:00:01\r\u001b[K     |██████████████▍                 | 122 kB 5.1 MB/s eta 0:00:01\r\u001b[K     |███████████████▌                | 133 kB 5.1 MB/s eta 0:00:01\r\u001b[K     |████████████████▊               | 143 kB 5.1 MB/s eta 0:00:01\r\u001b[K     |██████████████████              | 153 kB 5.1 MB/s eta 0:00:01\r\u001b[K     |███████████████████▏            | 163 kB 5.1 MB/s eta 0:00:01\r\u001b[K     |████████████████████▎           | 174 kB 5.1 MB/s eta 0:00:01\r\u001b[K     |█████████████████████▌          | 184 kB 5.1 MB/s eta 0:00:01\r\u001b[K     |██████████████████████▊         | 194 kB 5.1 MB/s eta 0:00:01\r\u001b[K     |████████████████████████        | 204 kB 5.1 MB/s eta 0:00:01\r\u001b[K     |█████████████████████████       | 215 kB 5.1 MB/s eta 0:00:01\r\u001b[K     |██████████████████████████▎     | 225 kB 5.1 MB/s eta 0:00:01\r\u001b[K     |███████████████████████████▌    | 235 kB 5.1 MB/s eta 0:00:01\r\u001b[K     |████████████████████████████▊   | 245 kB 5.1 MB/s eta 0:00:01\r\u001b[K     |█████████████████████████████▉  | 256 kB 5.1 MB/s eta 0:00:01\r\u001b[K     |███████████████████████████████ | 266 kB 5.1 MB/s eta 0:00:01\r\u001b[K     |████████████████████████████████| 274 kB 5.1 MB/s \n",
            "\u001b[?25hBuilding wheels for collected packages: pyyaml\n",
            "  Building wheel for pyyaml (setup.py) ... \u001b[?25l\u001b[?25hdone\n",
            "  Created wheel for pyyaml: filename=PyYAML-5.1-cp37-cp37m-linux_x86_64.whl size=44091 sha256=7ffc17f21e1e401b743d3996da2bf5f8fec74c163bc53dd4e4262f77a4050003\n",
            "  Stored in directory: /root/.cache/pip/wheels/77/f5/10/d00a2bd30928b972790053b5de0c703ca87324f3fead0f2fd9\n",
            "Successfully built pyyaml\n",
            "Installing collected packages: pyyaml\n",
            "  Attempting uninstall: pyyaml\n",
            "    Found existing installation: PyYAML 3.13\n",
            "    Uninstalling PyYAML-3.13:\n",
            "      Successfully uninstalled PyYAML-3.13\n",
            "Successfully installed pyyaml-5.1\n",
            "Found existing installation: torch 1.9.0+cu102\n",
            "Uninstalling torch-1.9.0+cu102:\n",
            "  Successfully uninstalled torch-1.9.0+cu102\n",
            "Looking in links: https://download.pytorch.org/whl/torch_stable.html\n",
            "Collecting torch==1.8.0+cu101\n",
            "  Downloading https://download.pytorch.org/whl/cu101/torch-1.8.0%2Bcu101-cp37-cp37m-linux_x86_64.whl (763.5 MB)\n",
            "\u001b[K     |████████████████████████████████| 763.5 MB 14 kB/s \n",
            "\u001b[?25hCollecting torchvision==0.9.0+cu101\n",
            "  Downloading https://download.pytorch.org/whl/cu101/torchvision-0.9.0%2Bcu101-cp37-cp37m-linux_x86_64.whl (17.3 MB)\n",
            "\u001b[K     |████████████████████████████████| 17.3 MB 257 kB/s \n",
            "\u001b[?25hRequirement already satisfied: numpy in /usr/local/lib/python3.7/dist-packages (from torch==1.8.0+cu101) (1.19.5)\n",
            "Requirement already satisfied: typing-extensions in /usr/local/lib/python3.7/dist-packages (from torch==1.8.0+cu101) (3.7.4.3)\n",
            "Requirement already satisfied: pillow>=4.1.1 in /usr/local/lib/python3.7/dist-packages (from torchvision==0.9.0+cu101) (7.1.2)\n",
            "Installing collected packages: torch, torchvision\n",
            "  Attempting uninstall: torchvision\n",
            "    Found existing installation: torchvision 0.10.0+cu102\n",
            "    Uninstalling torchvision-0.10.0+cu102:\n",
            "      Successfully uninstalled torchvision-0.10.0+cu102\n",
            "\u001b[31mERROR: pip's dependency resolver does not currently take into account all the packages that are installed. This behaviour is the source of the following dependency conflicts.\n",
            "torchtext 0.10.0 requires torch==1.9.0, but you have torch 1.8.0+cu101 which is incompatible.\u001b[0m\n",
            "Successfully installed torch-1.8.0+cu101 torchvision-0.9.0+cu101\n",
            "Looking in links: https://dl.fbaipublicfiles.com/detectron2/wheels/cu101/torch1.8/index.html\n",
            "Collecting detectron2\n",
            "  Downloading https://dl.fbaipublicfiles.com/detectron2/wheels/cu101/torch1.8/detectron2-0.5%2Bcu101-cp37-cp37m-linux_x86_64.whl (6.3 MB)\n",
            "\u001b[K     |████████████████████████████████| 6.3 MB 683 kB/s \n",
            "\u001b[?25hCollecting omegaconf>=2.1\n",
            "  Downloading omegaconf-2.1.0-py3-none-any.whl (74 kB)\n",
            "\u001b[K     |████████████████████████████████| 74 kB 1.9 MB/s \n",
            "\u001b[?25hRequirement already satisfied: tqdm>4.29.0 in /usr/local/lib/python3.7/dist-packages (from detectron2) (4.41.1)\n",
            "Requirement already satisfied: termcolor>=1.1 in /usr/local/lib/python3.7/dist-packages (from detectron2) (1.1.0)\n",
            "Requirement already satisfied: tensorboard in /usr/local/lib/python3.7/dist-packages (from detectron2) (2.5.0)\n",
            "Requirement already satisfied: future in /usr/local/lib/python3.7/dist-packages (from detectron2) (0.16.0)\n",
            "Collecting black==21.4b2\n",
            "  Downloading black-21.4b2-py3-none-any.whl (130 kB)\n",
            "\u001b[K     |████████████████████████████████| 130 kB 14.3 MB/s \n",
            "\u001b[?25hCollecting fvcore<0.1.6,>=0.1.5\n",
            "  Downloading fvcore-0.1.5.post20210722.tar.gz (49 kB)\n",
            "\u001b[K     |████████████████████████████████| 49 kB 5.6 MB/s \n",
            "\u001b[?25hCollecting hydra-core>=1.1\n",
            "  Downloading hydra_core-1.1.0-py3-none-any.whl (144 kB)\n",
            "\u001b[K     |████████████████████████████████| 144 kB 46.6 MB/s \n",
            "\u001b[?25hRequirement already satisfied: cloudpickle in /usr/local/lib/python3.7/dist-packages (from detectron2) (1.3.0)\n",
            "Requirement already satisfied: matplotlib in /usr/local/lib/python3.7/dist-packages (from detectron2) (3.2.2)\n",
            "Collecting yacs>=0.1.6\n",
            "  Downloading yacs-0.1.8-py3-none-any.whl (14 kB)\n",
            "Requirement already satisfied: tabulate in /usr/local/lib/python3.7/dist-packages (from detectron2) (0.8.9)\n",
            "Collecting iopath<0.1.9,>=0.1.7\n",
            "  Downloading iopath-0.1.8-py3-none-any.whl (19 kB)\n",
            "Requirement already satisfied: Pillow>=7.1 in /usr/local/lib/python3.7/dist-packages (from detectron2) (7.1.2)\n",
            "Requirement already satisfied: pycocotools>=2.0.2 in /usr/local/lib/python3.7/dist-packages (from detectron2) (2.0.2)\n",
            "Requirement already satisfied: pydot in /usr/local/lib/python3.7/dist-packages (from detectron2) (1.3.0)\n",
            "Requirement already satisfied: appdirs in /usr/local/lib/python3.7/dist-packages (from black==21.4b2->detectron2) (1.4.4)\n",
            "Requirement already satisfied: click>=7.1.2 in /usr/local/lib/python3.7/dist-packages (from black==21.4b2->detectron2) (7.1.2)\n",
            "Collecting regex>=2020.1.8\n",
            "  Downloading regex-2021.7.6-cp37-cp37m-manylinux2014_x86_64.whl (721 kB)\n",
            "\u001b[K     |████████████████████████████████| 721 kB 45.6 MB/s \n",
            "\u001b[?25hRequirement already satisfied: toml>=0.10.1 in /usr/local/lib/python3.7/dist-packages (from black==21.4b2->detectron2) (0.10.2)\n",
            "Collecting pathspec<1,>=0.8.1\n",
            "  Downloading pathspec-0.9.0-py2.py3-none-any.whl (31 kB)\n",
            "Requirement already satisfied: typing-extensions>=3.7.4 in /usr/local/lib/python3.7/dist-packages (from black==21.4b2->detectron2) (3.7.4.3)\n",
            "Collecting mypy-extensions>=0.4.3\n",
            "  Downloading mypy_extensions-0.4.3-py2.py3-none-any.whl (4.5 kB)\n",
            "Collecting typed-ast>=1.4.2\n",
            "  Downloading typed_ast-1.4.3-cp37-cp37m-manylinux1_x86_64.whl (743 kB)\n",
            "\u001b[K     |████████████████████████████████| 743 kB 36.2 MB/s \n",
            "\u001b[?25hRequirement already satisfied: numpy in /usr/local/lib/python3.7/dist-packages (from fvcore<0.1.6,>=0.1.5->detectron2) (1.19.5)\n",
            "Requirement already satisfied: pyyaml>=5.1 in /usr/local/lib/python3.7/dist-packages (from fvcore<0.1.6,>=0.1.5->detectron2) (5.1)\n",
            "Requirement already satisfied: importlib-resources in /usr/local/lib/python3.7/dist-packages (from hydra-core>=1.1->detectron2) (5.2.0)\n",
            "Collecting antlr4-python3-runtime==4.8\n",
            "  Downloading antlr4-python3-runtime-4.8.tar.gz (112 kB)\n",
            "\u001b[K     |████████████████████████████████| 112 kB 55.0 MB/s \n",
            "\u001b[?25hCollecting portalocker\n",
            "  Downloading portalocker-2.3.0-py2.py3-none-any.whl (15 kB)\n",
            "Requirement already satisfied: cython>=0.27.3 in /usr/local/lib/python3.7/dist-packages (from pycocotools>=2.0.2->detectron2) (0.29.23)\n",
            "Requirement already satisfied: setuptools>=18.0 in /usr/local/lib/python3.7/dist-packages (from pycocotools>=2.0.2->detectron2) (57.2.0)\n",
            "Requirement already satisfied: cycler>=0.10 in /usr/local/lib/python3.7/dist-packages (from matplotlib->detectron2) (0.10.0)\n",
            "Requirement already satisfied: kiwisolver>=1.0.1 in /usr/local/lib/python3.7/dist-packages (from matplotlib->detectron2) (1.3.1)\n",
            "Requirement already satisfied: pyparsing!=2.0.4,!=2.1.2,!=2.1.6,>=2.0.1 in /usr/local/lib/python3.7/dist-packages (from matplotlib->detectron2) (2.4.7)\n",
            "Requirement already satisfied: python-dateutil>=2.1 in /usr/local/lib/python3.7/dist-packages (from matplotlib->detectron2) (2.8.1)\n",
            "Requirement already satisfied: six in /usr/local/lib/python3.7/dist-packages (from cycler>=0.10->matplotlib->detectron2) (1.15.0)\n",
            "Requirement already satisfied: zipp>=3.1.0 in /usr/local/lib/python3.7/dist-packages (from importlib-resources->hydra-core>=1.1->detectron2) (3.5.0)\n",
            "Requirement already satisfied: tensorboard-plugin-wit>=1.6.0 in /usr/local/lib/python3.7/dist-packages (from tensorboard->detectron2) (1.8.0)\n",
            "Requirement already satisfied: google-auth-oauthlib<0.5,>=0.4.1 in /usr/local/lib/python3.7/dist-packages (from tensorboard->detectron2) (0.4.4)\n",
            "Requirement already satisfied: wheel>=0.26 in /usr/local/lib/python3.7/dist-packages (from tensorboard->detectron2) (0.36.2)\n",
            "Requirement already satisfied: werkzeug>=0.11.15 in /usr/local/lib/python3.7/dist-packages (from tensorboard->detectron2) (1.0.1)\n",
            "Requirement already satisfied: requests<3,>=2.21.0 in /usr/local/lib/python3.7/dist-packages (from tensorboard->detectron2) (2.23.0)\n",
            "Requirement already satisfied: markdown>=2.6.8 in /usr/local/lib/python3.7/dist-packages (from tensorboard->detectron2) (3.3.4)\n",
            "Requirement already satisfied: protobuf>=3.6.0 in /usr/local/lib/python3.7/dist-packages (from tensorboard->detectron2) (3.17.3)\n",
            "Requirement already satisfied: grpcio>=1.24.3 in /usr/local/lib/python3.7/dist-packages (from tensorboard->detectron2) (1.34.1)\n",
            "Requirement already satisfied: google-auth<2,>=1.6.3 in /usr/local/lib/python3.7/dist-packages (from tensorboard->detectron2) (1.32.1)\n",
            "Requirement already satisfied: tensorboard-data-server<0.7.0,>=0.6.0 in /usr/local/lib/python3.7/dist-packages (from tensorboard->detectron2) (0.6.1)\n",
            "Requirement already satisfied: absl-py>=0.4 in /usr/local/lib/python3.7/dist-packages (from tensorboard->detectron2) (0.12.0)\n",
            "Requirement already satisfied: rsa<5,>=3.1.4 in /usr/local/lib/python3.7/dist-packages (from google-auth<2,>=1.6.3->tensorboard->detectron2) (4.7.2)\n",
            "Requirement already satisfied: cachetools<5.0,>=2.0.0 in /usr/local/lib/python3.7/dist-packages (from google-auth<2,>=1.6.3->tensorboard->detectron2) (4.2.2)\n",
            "Requirement already satisfied: pyasn1-modules>=0.2.1 in /usr/local/lib/python3.7/dist-packages (from google-auth<2,>=1.6.3->tensorboard->detectron2) (0.2.8)\n",
            "Requirement already satisfied: requests-oauthlib>=0.7.0 in /usr/local/lib/python3.7/dist-packages (from google-auth-oauthlib<0.5,>=0.4.1->tensorboard->detectron2) (1.3.0)\n",
            "Requirement already satisfied: importlib-metadata in /usr/local/lib/python3.7/dist-packages (from markdown>=2.6.8->tensorboard->detectron2) (4.6.1)\n",
            "Requirement already satisfied: pyasn1<0.5.0,>=0.4.6 in /usr/local/lib/python3.7/dist-packages (from pyasn1-modules>=0.2.1->google-auth<2,>=1.6.3->tensorboard->detectron2) (0.4.8)\n",
            "Requirement already satisfied: urllib3!=1.25.0,!=1.25.1,<1.26,>=1.21.1 in /usr/local/lib/python3.7/dist-packages (from requests<3,>=2.21.0->tensorboard->detectron2) (1.24.3)\n",
            "Requirement already satisfied: chardet<4,>=3.0.2 in /usr/local/lib/python3.7/dist-packages (from requests<3,>=2.21.0->tensorboard->detectron2) (3.0.4)\n",
            "Requirement already satisfied: certifi>=2017.4.17 in /usr/local/lib/python3.7/dist-packages (from requests<3,>=2.21.0->tensorboard->detectron2) (2021.5.30)\n",
            "Requirement already satisfied: idna<3,>=2.5 in /usr/local/lib/python3.7/dist-packages (from requests<3,>=2.21.0->tensorboard->detectron2) (2.10)\n",
            "Requirement already satisfied: oauthlib>=3.0.0 in /usr/local/lib/python3.7/dist-packages (from requests-oauthlib>=0.7.0->google-auth-oauthlib<0.5,>=0.4.1->tensorboard->detectron2) (3.1.1)\n",
            "Building wheels for collected packages: fvcore, antlr4-python3-runtime\n",
            "  Building wheel for fvcore (setup.py) ... \u001b[?25l\u001b[?25hdone\n",
            "  Created wheel for fvcore: filename=fvcore-0.1.5.post20210722-py3-none-any.whl size=60612 sha256=21ea4b48899534ccb97546609f2da4a73379f9ad967fec55fa5bed57cbbf8241\n",
            "  Stored in directory: /root/.cache/pip/wheels/a6/99/bf/2ee4e2098402c3b918173613ff34384b0185e87198af9d44f9\n",
            "  Building wheel for antlr4-python3-runtime (setup.py) ... \u001b[?25l\u001b[?25hdone\n",
            "  Created wheel for antlr4-python3-runtime: filename=antlr4_python3_runtime-4.8-py3-none-any.whl size=141229 sha256=e214f9d68f1898673129e3a6f58fad48b187a9580daf6b13b231859a948add07\n",
            "  Stored in directory: /root/.cache/pip/wheels/ca/33/b7/336836125fc9bb4ceaa4376d8abca10ca8bc84ddc824baea6c\n",
            "Successfully built fvcore antlr4-python3-runtime\n",
            "Installing collected packages: portalocker, antlr4-python3-runtime, yacs, typed-ast, regex, pathspec, omegaconf, mypy-extensions, iopath, hydra-core, fvcore, black, detectron2\n",
            "  Attempting uninstall: regex\n",
            "    Found existing installation: regex 2019.12.20\n",
            "    Uninstalling regex-2019.12.20:\n",
            "      Successfully uninstalled regex-2019.12.20\n",
            "Successfully installed antlr4-python3-runtime-4.8 black-21.4b2 detectron2-0.5+cu101 fvcore-0.1.5.post20210722 hydra-core-1.1.0 iopath-0.1.8 mypy-extensions-0.4.3 omegaconf-2.1.0 pathspec-0.9.0 portalocker-2.3.0 regex-2021.7.6 typed-ast-1.4.3 yacs-0.1.8\n"
          ],
          "name": "stdout"
        },
        {
          "output_type": "display_data",
          "data": {
            "application/vnd.colab-display-data+json": {
              "pip_warning": {
                "packages": [
                  "pydevd_plugins"
                ]
              }
            }
          },
          "metadata": {
            "tags": []
          }
        }
      ]
    },
    {
      "cell_type": "code",
      "metadata": {
        "id": "RxQvqNV6hnJK"
      },
      "source": [
        "!unzip -qq /content/drive/MyDrive/Hateful_Memes/hateful_memes.zip"
      ],
      "execution_count": 2,
      "outputs": []
    },
    {
      "cell_type": "code",
      "metadata": {
        "colab": {
          "base_uri": "https://localhost:8080/"
        },
        "id": "SsSmd6n0iGRn",
        "outputId": "ed99099c-b6f3-41d0-8d45-ba20467b7b76"
      },
      "source": [
        "\n",
        "# check pytorch installation: \n",
        "import torch, torchvision\n",
        "print(torch.__version__, torch.cuda.is_available())\n",
        "assert torch.__version__.startswith(\"1.8\")   # please manually install torch 1.8 if Colab changes its default version"
      ],
      "execution_count": 3,
      "outputs": [
        {
          "output_type": "stream",
          "text": [
            "1.8.0+cu101 True\n"
          ],
          "name": "stdout"
        }
      ]
    },
    {
      "cell_type": "code",
      "metadata": {
        "id": "Q3j_qp0bhecE"
      },
      "source": [
        "import torch, torchvision\n",
        "import matplotlib.pyplot as plt\n",
        "import json\n",
        "import cv2\n",
        "import numpy as np\n",
        "import os"
      ],
      "execution_count": 4,
      "outputs": []
    },
    {
      "cell_type": "code",
      "metadata": {
        "id": "TblVkKg9hkw3"
      },
      "source": [
        "from detectron2.modeling import build_model\n",
        "from detectron2.checkpoint import DetectionCheckpointer\n",
        "from detectron2.structures.image_list import ImageList\n",
        "from detectron2.data import transforms as T\n",
        "from detectron2.modeling.box_regression import Box2BoxTransform\n",
        "from detectron2.modeling.roi_heads.fast_rcnn import FastRCNNOutputs\n",
        "from detectron2.structures.boxes import Boxes\n",
        "from detectron2.layers import nms\n",
        "from detectron2 import model_zoo\n",
        "from detectron2.config import get_cfg"
      ],
      "execution_count": 5,
      "outputs": []
    },
    {
      "cell_type": "markdown",
      "metadata": {
        "id": "ZjAfgxjqjjYm"
      },
      "source": [
        "## Get our data"
      ]
    },
    {
      "cell_type": "code",
      "metadata": {
        "colab": {
          "base_uri": "https://localhost:8080/",
          "height": 204
        },
        "id": "RBwZS5qtkiGQ",
        "outputId": "4c71e700-985f-4a37-a71d-748a2fb14e62"
      },
      "source": [
        "import pandas as pd\n",
        "df_train = pd.read_json('hateful_memes/train.jsonl', lines=True)\n",
        "df_train.head()"
      ],
      "execution_count": 6,
      "outputs": [
        {
          "output_type": "execute_result",
          "data": {
            "text/html": [
              "<div>\n",
              "<style scoped>\n",
              "    .dataframe tbody tr th:only-of-type {\n",
              "        vertical-align: middle;\n",
              "    }\n",
              "\n",
              "    .dataframe tbody tr th {\n",
              "        vertical-align: top;\n",
              "    }\n",
              "\n",
              "    .dataframe thead th {\n",
              "        text-align: right;\n",
              "    }\n",
              "</style>\n",
              "<table border=\"1\" class=\"dataframe\">\n",
              "  <thead>\n",
              "    <tr style=\"text-align: right;\">\n",
              "      <th></th>\n",
              "      <th>id</th>\n",
              "      <th>img</th>\n",
              "      <th>label</th>\n",
              "      <th>text</th>\n",
              "    </tr>\n",
              "  </thead>\n",
              "  <tbody>\n",
              "    <tr>\n",
              "      <th>0</th>\n",
              "      <td>42953</td>\n",
              "      <td>img/42953.png</td>\n",
              "      <td>0</td>\n",
              "      <td>its their character not their color that matters</td>\n",
              "    </tr>\n",
              "    <tr>\n",
              "      <th>1</th>\n",
              "      <td>23058</td>\n",
              "      <td>img/23058.png</td>\n",
              "      <td>0</td>\n",
              "      <td>don't be afraid to love again everyone is not ...</td>\n",
              "    </tr>\n",
              "    <tr>\n",
              "      <th>2</th>\n",
              "      <td>13894</td>\n",
              "      <td>img/13894.png</td>\n",
              "      <td>0</td>\n",
              "      <td>putting bows on your pet</td>\n",
              "    </tr>\n",
              "    <tr>\n",
              "      <th>3</th>\n",
              "      <td>37408</td>\n",
              "      <td>img/37408.png</td>\n",
              "      <td>0</td>\n",
              "      <td>i love everything and everybody! except for sq...</td>\n",
              "    </tr>\n",
              "    <tr>\n",
              "      <th>4</th>\n",
              "      <td>82403</td>\n",
              "      <td>img/82403.png</td>\n",
              "      <td>0</td>\n",
              "      <td>everybody loves chocolate chip cookies, even h...</td>\n",
              "    </tr>\n",
              "  </tbody>\n",
              "</table>\n",
              "</div>"
            ],
            "text/plain": [
              "      id  ...                                               text\n",
              "0  42953  ...   its their character not their color that matters\n",
              "1  23058  ...  don't be afraid to love again everyone is not ...\n",
              "2  13894  ...                           putting bows on your pet\n",
              "3  37408  ...  i love everything and everybody! except for sq...\n",
              "4  82403  ...  everybody loves chocolate chip cookies, even h...\n",
              "\n",
              "[5 rows x 4 columns]"
            ]
          },
          "metadata": {
            "tags": []
          },
          "execution_count": 6
        }
      ]
    },
    {
      "cell_type": "code",
      "metadata": {
        "colab": {
          "base_uri": "https://localhost:8080/",
          "height": 204
        },
        "id": "0RPFcsHlmrUn",
        "outputId": "de5b2ee8-3b8f-41d6-d396-1deab45e0f6d"
      },
      "source": [
        "df_val = pd.read_json('hateful_memes/dev_seen.jsonl', lines=True)\n",
        "df_val.head()"
      ],
      "execution_count": 7,
      "outputs": [
        {
          "output_type": "execute_result",
          "data": {
            "text/html": [
              "<div>\n",
              "<style scoped>\n",
              "    .dataframe tbody tr th:only-of-type {\n",
              "        vertical-align: middle;\n",
              "    }\n",
              "\n",
              "    .dataframe tbody tr th {\n",
              "        vertical-align: top;\n",
              "    }\n",
              "\n",
              "    .dataframe thead th {\n",
              "        text-align: right;\n",
              "    }\n",
              "</style>\n",
              "<table border=\"1\" class=\"dataframe\">\n",
              "  <thead>\n",
              "    <tr style=\"text-align: right;\">\n",
              "      <th></th>\n",
              "      <th>id</th>\n",
              "      <th>img</th>\n",
              "      <th>label</th>\n",
              "      <th>text</th>\n",
              "    </tr>\n",
              "  </thead>\n",
              "  <tbody>\n",
              "    <tr>\n",
              "      <th>0</th>\n",
              "      <td>8291</td>\n",
              "      <td>img/08291.png</td>\n",
              "      <td>1</td>\n",
              "      <td>white people is this a shooting range</td>\n",
              "    </tr>\n",
              "    <tr>\n",
              "      <th>1</th>\n",
              "      <td>46971</td>\n",
              "      <td>img/46971.png</td>\n",
              "      <td>1</td>\n",
              "      <td>bravery at its finest</td>\n",
              "    </tr>\n",
              "    <tr>\n",
              "      <th>2</th>\n",
              "      <td>3745</td>\n",
              "      <td>img/03745.png</td>\n",
              "      <td>1</td>\n",
              "      <td>your order comes to $37.50 and your white priv...</td>\n",
              "    </tr>\n",
              "    <tr>\n",
              "      <th>3</th>\n",
              "      <td>83745</td>\n",
              "      <td>img/83745.png</td>\n",
              "      <td>1</td>\n",
              "      <td>it is time.. to send these parasites back to t...</td>\n",
              "    </tr>\n",
              "    <tr>\n",
              "      <th>4</th>\n",
              "      <td>80243</td>\n",
              "      <td>img/80243.png</td>\n",
              "      <td>1</td>\n",
              "      <td>mississippi wind chime</td>\n",
              "    </tr>\n",
              "  </tbody>\n",
              "</table>\n",
              "</div>"
            ],
            "text/plain": [
              "      id  ...                                               text\n",
              "0   8291  ...              white people is this a shooting range\n",
              "1  46971  ...                              bravery at its finest\n",
              "2   3745  ...  your order comes to $37.50 and your white priv...\n",
              "3  83745  ...  it is time.. to send these parasites back to t...\n",
              "4  80243  ...                             mississippi wind chime\n",
              "\n",
              "[5 rows x 4 columns]"
            ]
          },
          "metadata": {
            "tags": []
          },
          "execution_count": 7
        }
      ]
    },
    {
      "cell_type": "code",
      "metadata": {
        "colab": {
          "base_uri": "https://localhost:8080/"
        },
        "id": "wXOYkwhpmylJ",
        "outputId": "4d69c55b-eeeb-4a39-c72f-fb5d534b482d"
      },
      "source": [
        "df_train.shape, df_val.shape"
      ],
      "execution_count": 8,
      "outputs": [
        {
          "output_type": "execute_result",
          "data": {
            "text/plain": [
              "((8500, 4), (500, 4))"
            ]
          },
          "metadata": {
            "tags": []
          },
          "execution_count": 8
        }
      ]
    },
    {
      "cell_type": "code",
      "metadata": {
        "colab": {
          "base_uri": "https://localhost:8080/",
          "height": 286
        },
        "id": "ldqCquS4jldd",
        "outputId": "90b0c851-63c0-4a4b-fcb4-327a27c3742b"
      },
      "source": [
        "## Read img by ID\n",
        "idx = 2139\n",
        "image_id = str(idx).zfill(5)\n",
        "img2 = plt.imread(f'hateful_memes/img/{image_id}.png')\n",
        "print(img2.shape)\n",
        "\n",
        "# Detectron expects BGR images\n",
        "img_bgr2 = cv2.cvtColor(img2, cv2.COLOR_RGB2BGR)\n",
        "plt.imshow(img2)\n",
        "plt.show()"
      ],
      "execution_count": 9,
      "outputs": [
        {
          "output_type": "stream",
          "text": [
            "(400, 250, 3)\n"
          ],
          "name": "stdout"
        },
        {
          "output_type": "display_data",
          "data": {
            "image/png": "[encoded data removed]",
            "text/plain": [
              "<Figure size 432x288 with 1 Axes>"
            ]
          },
          "metadata": {
            "tags": [],
            "needs_background": "light"
          }
        }
      ]
    },
    {
      "cell_type": "code",
      "metadata": {
        "colab": {
          "base_uri": "https://localhost:8080/"
        },
        "id": "rdklw3QNlP48",
        "outputId": "b2965722-5584-4b04-b55e-ac6c1bdad1fb"
      },
      "source": [
        "print(df_train[df_train['id'] == idx]['text'])"
      ],
      "execution_count": 10,
      "outputs": [
        {
          "output_type": "stream",
          "text": [
            "319    no less beautiful\n",
            "Name: text, dtype: object\n"
          ],
          "name": "stdout"
        }
      ]
    },
    {
      "cell_type": "markdown",
      "metadata": {
        "id": "8tPBwUyEm5Vo"
      },
      "source": [
        "### Load Config and Model Weights"
      ]
    },
    {
      "cell_type": "markdown",
      "metadata": {
        "id": "A0F3Pj1Zm9xw"
      },
      "source": [
        "I am using the MaskRCNN ResNet-101 FPN checkpoint, but you can use any checkpoint of your preference. This checkpoint is pre-trained on the COCO dataset. You can check other checkpoints/configs on the Model Zoo page."
      ]
    },
    {
      "cell_type": "code",
      "metadata": {
        "id": "4RU6yBwFl0qw"
      },
      "source": [
        "cfg_path = \"COCO-InstanceSegmentation/mask_rcnn_R_101_FPN_3x.yaml\"\n",
        "\n",
        "def load_config_and_model_weights(cfg_path):\n",
        "    cfg = get_cfg()\n",
        "    cfg.merge_from_file(model_zoo.get_config_file(cfg_path))\n",
        "\n",
        "    # ROI HEADS SCORE THRESHOLD\n",
        "    cfg.MODEL.ROI_HEADS.SCORE_THRESH_TEST = 0.5\n",
        "\n",
        "    # Comment the next line if you're using 'cuda'\n",
        "    cfg['MODEL']['DEVICE']='cpu'\n",
        "\n",
        "    cfg.MODEL.WEIGHTS = model_zoo.get_checkpoint_url(cfg_path)\n",
        "\n",
        "    return cfg\n",
        "\n",
        "cfg = load_config_and_model_weights(cfg_path)"
      ],
      "execution_count": 11,
      "outputs": []
    },
    {
      "cell_type": "markdown",
      "metadata": {
        "id": "TiSIvhoknFes"
      },
      "source": [
        "### Load the Object Detection Model\n",
        "The `build_model` method can be used to load a model from the configuration, the checkpoints have to be loaded using the `DetetionCheckpointer`."
      ]
    },
    {
      "cell_type": "code",
      "metadata": {
        "id": "MSzLpKfXm-5V",
        "colab": {
          "base_uri": "https://localhost:8080/"
        },
        "outputId": "8678a814-7da4-4f95-cc2b-a3b7b4d559ca"
      },
      "source": [
        "def get_model(cfg):\n",
        "    # build model\n",
        "    model = build_model(cfg)\n",
        "\n",
        "    # load weights\n",
        "    checkpointer = DetectionCheckpointer(model)\n",
        "    checkpointer.load(cfg.MODEL.WEIGHTS)\n",
        "\n",
        "    # eval mode\n",
        "    model.eval()\n",
        "    return model\n",
        "\n",
        "model = get_model(cfg)\n",
        "model = model.to('cuda')"
      ],
      "execution_count": 12,
      "outputs": [
        {
          "output_type": "stream",
          "text": [
            "model_final_a3ec72.pkl: 254MB [00:25, 10.0MB/s]                           \n",
            "The checkpoint state_dict contains keys that are not used by the model:\n",
            "  \u001b[35mproposal_generator.anchor_generator.cell_anchors.{0, 1, 2, 3, 4}\u001b[0m\n"
          ],
          "name": "stderr"
        }
      ]
    },
    {
      "cell_type": "markdown",
      "metadata": {
        "id": "MVQ9lcEknR0B"
      },
      "source": [
        "### Convert Image to Model Input\n",
        "The detectron uses resizing and normalization based on the configuration parameters and the input is to be provided using `ImageList`. The `model.backbone.size_divisibility` handles the sizes (padding) such that the FPN lateral and output convolutional features have same dimensions."
      ]
    },
    {
      "cell_type": "code",
      "metadata": {
        "id": "JTQ2OxIknnbp"
      },
      "source": [
        "def create_image_list(img_path):\n",
        "    img_dict = {}\n",
        "    img_list = []\n",
        "    for img_file in sorted(os.listdir(img_path)):\n",
        "        img_id = img_file.split('/')[-1].split('.')[0]\n",
        "        img = cv2.cvtColor(img2, cv2.COLOR_RGB2BGR)\n",
        "        img_dict[img_id] = img\n",
        "        img_list.append(img)\n",
        "    return img_dict, img_list\n",
        "\n",
        "# img_dict, img_list = create_image_list('hateful_memes/img')"
      ],
      "execution_count": 13,
      "outputs": []
    },
    {
      "cell_type": "code",
      "metadata": {
        "id": "hiqFtuZbnRH_"
      },
      "source": [
        "def prepare_image_inputs(cfg, img_list):\n",
        "    # Resizing the image according to the configuration\n",
        "    transform_gen = T.ResizeShortestEdge(\n",
        "                [cfg.INPUT.MIN_SIZE_TEST, cfg.INPUT.MIN_SIZE_TEST], cfg.INPUT.MAX_SIZE_TEST\n",
        "            )\n",
        "    img_list = [transform_gen.get_transform(img).apply_image(img) for img in img_list]\n",
        "\n",
        "    # Convert to C,H,W format\n",
        "    convert_to_tensor = lambda x: torch.Tensor(x.astype(\"float32\").transpose(2, 0, 1)).to('cuda')\n",
        "\n",
        "    batched_inputs = [{\"image\":convert_to_tensor(img), \"height\": img.shape[0], \"width\": img.shape[1]} for img in img_list]\n",
        "\n",
        "    # Normalizing the image\n",
        "    num_channels = len(cfg.MODEL.PIXEL_MEAN)\n",
        "    pixel_mean = torch.Tensor(cfg.MODEL.PIXEL_MEAN).view(num_channels, 1, 1).to('cuda')\n",
        "    pixel_std = torch.Tensor(cfg.MODEL.PIXEL_STD).view(num_channels, 1, 1).to('cuda')\n",
        "    normalizer = lambda x: (x - pixel_mean) / pixel_std\n",
        "    images = [normalizer(x[\"image\"]) for x in batched_inputs]\n",
        "\n",
        "    # Convert to ImageList\n",
        "    images =  ImageList.from_tensors(images,model.backbone.size_divisibility)\n",
        "    \n",
        "    return images, batched_inputs\n",
        "\n",
        "images, batched_inputs = prepare_image_inputs(cfg, [img_bgr2, img_bgr2])"
      ],
      "execution_count": 14,
      "outputs": []
    },
    {
      "cell_type": "markdown",
      "metadata": {
        "id": "LZGVuFTgp35G"
      },
      "source": [
        "### Get ResNet+FPN features\n",
        "The ResNet model in combination with FPN generates five features for an image at different levels of complexity. For more details, refer to the FPN paper or this [article](https://medium.com/@hirotoschwert/digging-into-detectron-2-47b2e794fabd). For this tutorial, just know that `p2`, `p3`, `p4`, `p5`, `p6` are the features needed by the RPN (Region Proposal Network). The proposals in combination with `p2`, `p3`, `p4`, `p5` are then used by the ROI (Region of Interest) heads to generate box predictions."
      ]
    },
    {
      "cell_type": "code",
      "metadata": {
        "id": "SQvSaoGXnEzf"
      },
      "source": [
        "def get_features(model, images):\n",
        "    features = model.backbone(images.tensor)\n",
        "    return features\n",
        "\n",
        "features = get_features(model, images)"
      ],
      "execution_count": 15,
      "outputs": []
    },
    {
      "cell_type": "code",
      "metadata": {
        "colab": {
          "base_uri": "https://localhost:8080/"
        },
        "id": "Y86Q_EK4p6k5",
        "outputId": "cf8a27ec-97a0-4a0e-fddc-b8426751b7bf"
      },
      "source": [
        "features.keys()"
      ],
      "execution_count": 16,
      "outputs": [
        {
          "output_type": "execute_result",
          "data": {
            "text/plain": [
              "dict_keys(['p2', 'p3', 'p4', 'p5', 'p6'])"
            ]
          },
          "metadata": {
            "tags": []
          },
          "execution_count": 16
        }
      ]
    },
    {
      "cell_type": "code",
      "metadata": {
        "colab": {
          "base_uri": "https://localhost:8080/"
        },
        "id": "_cOS9YkuqJAp",
        "outputId": "d62330ed-427c-4bb4-9118-fe7213b6119e"
      },
      "source": [
        "features['p2'].shape"
      ],
      "execution_count": 17,
      "outputs": [
        {
          "output_type": "execute_result",
          "data": {
            "text/plain": [
              "torch.Size([2, 256, 320, 200])"
            ]
          },
          "metadata": {
            "tags": []
          },
          "execution_count": 17
        }
      ]
    },
    {
      "cell_type": "code",
      "metadata": {
        "colab": {
          "base_uri": "https://localhost:8080/",
          "height": 1000
        },
        "id": "7ABFukh9p9kZ",
        "outputId": "f6754c08-7833-439f-d113-36fb3e5ef03c"
      },
      "source": [
        "plt.imshow(cv2.resize(img2, (images.tensor.shape[-2:][::-1])))\n",
        "plt.show()\n",
        "for key in features.keys():\n",
        "    print(features[key].shape)\n",
        "    plt.imshow(features[key][0,0,:,:].cpu().squeeze().detach().numpy(), cmap='jet')\n",
        "    plt.show()"
      ],
      "execution_count": 18,
      "outputs": [
        {
          "output_type": "display_data",
          "data": {
            "image/png": "[encoded data removed]",
            "text/plain": [
              "<Figure size 432x288 with 1 Axes>"
            ]
          },
          "metadata": {
            "tags": [],
            "needs_background": "light"
          }
        },
        {
          "output_type": "stream",
          "text": [
            "torch.Size([2, 256, 320, 200])\n"
          ],
          "name": "stdout"
        },
        {
          "output_type": "display_data",
          "data": {
            "image/png": "[encoded data removed]",
            "text/plain": [
              "<Figure size 432x288 with 1 Axes>"
            ]
          },
          "metadata": {
            "tags": [],
            "needs_background": "light"
          }
        },
        {
          "output_type": "stream",
          "text": [
            "torch.Size([2, 256, 160, 100])\n"
          ],
          "name": "stdout"
        },
        {
          "output_type": "display_data",
          "data": {
            "image/png": "[encoded data removed]",
            "text/plain": [
              "<Figure size 432x288 with 1 Axes>"
            ]
          },
          "metadata": {
            "tags": [],
            "needs_background": "light"
          }
        },
        {
          "output_type": "stream",
          "text": [
            "torch.Size([2, 256, 80, 50])\n"
          ],
          "name": "stdout"
        },
        {
          "output_type": "display_data",
          "data": {
            "image/png": "[encoded data removed]",
            "text/plain": [
              "<Figure size 432x288 with 1 Axes>"
            ]
          },
          "metadata": {
            "tags": [],
            "needs_background": "light"
          }
        },
        {
          "output_type": "stream",
          "text": [
            "torch.Size([2, 256, 40, 25])\n"
          ],
          "name": "stdout"
        },
        {
          "output_type": "display_data",
          "data": {
            "image/png": "[encoded data removed]",
            "text/plain": [
              "<Figure size 432x288 with 1 Axes>"
            ]
          },
          "metadata": {
            "tags": [],
            "needs_background": "light"
          }
        },
        {
          "output_type": "stream",
          "text": [
            "torch.Size([2, 256, 20, 13])\n"
          ],
          "name": "stdout"
        },
        {
          "output_type": "display_data",
          "data": {
            "image/png": "[encoded data removed]",
            "text/plain": [
              "<Figure size 432x288 with 1 Axes>"
            ]
          },
          "metadata": {
            "tags": [],
            "needs_background": "light"
          }
        }
      ]
    },
    {
      "cell_type": "markdown",
      "metadata": {
        "id": "n2sDnV9nqoyp"
      },
      "source": [
        "### Get region proposals from RPN\n",
        "This RPN takes in the features and images and generates the proposals. Based on the configuration we chose, we get 1000 proposals."
      ]
    },
    {
      "cell_type": "code",
      "metadata": {
        "id": "bUXBeGYmqBB4"
      },
      "source": [
        "def get_proposals(model, images, features):\n",
        "    proposals, _ = model.proposal_generator(images, features)\n",
        "    return proposals\n",
        "\n",
        "proposals = get_proposals(model, images, features)"
      ],
      "execution_count": 19,
      "outputs": []
    },
    {
      "cell_type": "markdown",
      "metadata": {
        "id": "JxG_q7YUqvFq"
      },
      "source": [
        "## Get Box Features for the proposals\n",
        "The proposals and features are then used by the ROI heads to get the predictions. In this case, the partial execution of layers becomes significant. We want the box_features to be the fc2 outputs of the regions. Hence, I use only the layers that are needed until that step."
      ]
    },
    {
      "cell_type": "code",
      "metadata": {
        "id": "_qPK3C-8qrVo"
      },
      "source": [
        "def get_box_features(model, features, proposals):\n",
        "    features_list = [features[f] for f in ['p2', 'p3', 'p4', 'p5']]\n",
        "    box_features = model.roi_heads.box_pooler(features_list, [x.proposal_boxes for x in proposals])\n",
        "    box_features = model.roi_heads.box_head.flatten(box_features)\n",
        "    box_features = model.roi_heads.box_head.fc1(box_features)\n",
        "    box_features = model.roi_heads.box_head.fc_relu1(box_features)\n",
        "    box_features = model.roi_heads.box_head.fc2(box_features)\n",
        "    batch_size =2\n",
        "    embed_size = 1024\n",
        "    box_features = box_features.reshape(batch_size, -1, embed_size) # depends on your config and batch size\n",
        "    return box_features, features_list\n",
        "\n",
        "box_features, features_list = get_box_features(model, features, proposals)"
      ],
      "execution_count": 20,
      "outputs": []
    },
    {
      "cell_type": "markdown",
      "metadata": {
        "id": "kwmn4jcVUDQ8"
      },
      "source": [
        "### Get prediction logits and boxes\n",
        "The prediction class logits and the box predictions from the ROI heads, this is used in the next step to get the boxes and scores from the `FastRCNNOutputs`"
      ]
    },
    {
      "cell_type": "code",
      "metadata": {
        "id": "HTeUVoCRq2aX"
      },
      "source": [
        "def get_prediction_logits(model, features_list, proposals):\n",
        "    cls_features = model.roi_heads.box_pooler(features_list, [x.proposal_boxes for x in proposals])\n",
        "    cls_features = model.roi_heads.box_head(cls_features)\n",
        "    pred_class_logits, pred_proposal_deltas = model.roi_heads.box_predictor(cls_features)\n",
        "    return pred_class_logits, pred_proposal_deltas\n",
        "\n",
        "pred_class_logits, pred_proposal_deltas = get_prediction_logits(model, features_list, proposals)"
      ],
      "execution_count": 21,
      "outputs": []
    },
    {
      "cell_type": "markdown",
      "metadata": {
        "id": "cp_mbEK2UPF7"
      },
      "source": [
        "### Get FastRCNN scores and boxes\n",
        "\n",
        "This results in the softmax scores and the boxes."
      ]
    },
    {
      "cell_type": "code",
      "metadata": {
        "id": "Wj72-rV_rFoI"
      },
      "source": [
        "def get_box_scores(cfg, pred_class_logits, pred_proposal_deltas):\n",
        "    box2box_transform = Box2BoxTransform(weights=cfg.MODEL.ROI_BOX_HEAD.BBOX_REG_WEIGHTS)\n",
        "    smooth_l1_beta = cfg.MODEL.ROI_BOX_HEAD.SMOOTH_L1_BETA\n",
        "\n",
        "    outputs = FastRCNNOutputs(\n",
        "        box2box_transform,\n",
        "        pred_class_logits,\n",
        "        pred_proposal_deltas,\n",
        "        proposals,\n",
        "        smooth_l1_beta,\n",
        "    )\n",
        "\n",
        "    boxes = outputs.predict_boxes()\n",
        "    scores = outputs.predict_probs()\n",
        "    image_shapes = outputs.image_shapes\n",
        "\n",
        "    return boxes, scores, image_shapes\n",
        "\n",
        "boxes, scores, image_shapes = get_box_scores(cfg, pred_class_logits, pred_proposal_deltas)"
      ],
      "execution_count": 22,
      "outputs": []
    },
    {
      "cell_type": "markdown",
      "metadata": {
        "id": "8bjuUZrdWNie"
      },
      "source": [
        "## Scale\n",
        "Scale boxes to the size of the image"
      ]
    },
    {
      "cell_type": "code",
      "metadata": {
        "colab": {
          "base_uri": "https://localhost:8080/"
        },
        "id": "d5FLBSE5rIsL",
        "outputId": "f42ba5b3-c5de-4e7e-c8b0-53d4ef3611cf"
      },
      "source": [
        "def get_output_boxes(boxes, batched_inputs, image_size):\n",
        "    proposal_boxes = boxes.reshape(-1, 4)\n",
        "    scale_x, scale_y = (batched_inputs[\"width\"] / image_size[1], batched_inputs[\"height\"] / image_size[0])\n",
        "    output_boxes = Boxes(proposal_boxes)\n",
        "\n",
        "    output_boxes.scale(scale_x, scale_y)\n",
        "    output_boxes.clip(image_size)\n",
        "\n",
        "    return output_boxes\n",
        "\n",
        "output_boxes = [get_output_boxes(boxes[i], batched_inputs[i], proposals[i].image_size) for i in range(len(proposals))]"
      ],
      "execution_count": 23,
      "outputs": [
        {
          "output_type": "stream",
          "text": [
            "/usr/local/lib/python3.7/dist-packages/detectron2/structures/boxes.py:284: UserWarning: Output 0 of SliceBackward is a view and is being modified inplace. This view is an output of a function that returns multiple views. Inplace operators on such views are being deprecated and will be forbidden starting from version 1.8. Consider using `unsafe_` version of the function that produced this view or don't modify this view inplace. (Triggered internally at  /pytorch/torch/csrc/autograd/variable.cpp:547.)\n",
            "  self.tensor[:, 0::2] *= scale_x\n",
            "/usr/local/lib/python3.7/dist-packages/detectron2/structures/boxes.py:285: UserWarning: Output 0 of SliceBackward is a view and is being modified inplace. This view is an output of a function that returns multiple views. Inplace operators on such views are being deprecated and will be forbidden starting from version 1.8. Consider using `unsafe_` version of the function that produced this view or don't modify this view inplace. (Triggered internally at  /pytorch/torch/csrc/autograd/variable.cpp:547.)\n",
            "  self.tensor[:, 1::2] *= scale_y\n"
          ],
          "name": "stderr"
        }
      ]
    },
    {
      "cell_type": "code",
      "metadata": {
        "colab": {
          "base_uri": "https://localhost:8080/"
        },
        "id": "yzh6GaCqBI14",
        "outputId": "634744cd-54cf-43ef-ceec-2de2bd0dbfd5"
      },
      "source": [
        "print(output_boxes)"
      ],
      "execution_count": 24,
      "outputs": [
        {
          "output_type": "stream",
          "text": [
            "[Boxes(tensor([[  34.0190,   12.7376,  790.2778, 1006.0250],\n",
            "        [  24.7744,    0.0000,  785.6715, 1002.9683],\n",
            "        [   0.0000,    0.0000,  800.0000, 1006.7823],\n",
            "        ...,\n",
            "        [ 798.0150,  991.6024,  800.0000, 1006.6534],\n",
            "        [ 797.9943,  991.2296,  799.9973, 1006.9062],\n",
            "        [ 798.0125,  991.6911,  800.0000, 1006.5228]], device='cuda:0',\n",
            "       grad_fn=<StackBackward>)), Boxes(tensor([[  34.0190,   12.7376,  790.2778, 1006.0250],\n",
            "        [  24.7744,    0.0000,  785.6715, 1002.9683],\n",
            "        [   0.0000,    0.0000,  800.0000, 1006.7823],\n",
            "        ...,\n",
            "        [ 798.0150,  991.6024,  800.0000, 1006.6534],\n",
            "        [ 797.9943,  991.2296,  799.9973, 1006.9062],\n",
            "        [ 798.0125,  991.6911,  800.0000, 1006.5228]], device='cuda:0',\n",
            "       grad_fn=<StackBackward>))]\n"
          ],
          "name": "stdout"
        }
      ]
    },
    {
      "cell_type": "markdown",
      "metadata": {
        "id": "Y3AcdrsoUYos"
      },
      "source": [
        "### Select the Boxes using NMS\n",
        "We need two thresholds - NMS threshold for the NMS box section, and score threshold for the score based section.\n",
        "\n",
        "First NMS is performed for all the classes and the max scores of each proposal box and each class is updated.\n",
        "\n",
        "Then the class score threshold is used to select the boxes from those."
      ]
    },
    {
      "cell_type": "code",
      "metadata": {
        "id": "ZIGLzzNqrMtA"
      },
      "source": [
        "def select_boxes(cfg, output_boxes, scores):\n",
        "    test_score_thresh = cfg.MODEL.ROI_HEADS.SCORE_THRESH_TEST\n",
        "    test_nms_thresh = cfg.MODEL.ROI_HEADS.NMS_THRESH_TEST\n",
        "    cls_prob = scores.detach()\n",
        "    cls_boxes = output_boxes.tensor.detach().reshape(1000,80,4)\n",
        "    max_conf = torch.zeros((cls_boxes.shape[0])).to('cuda')\n",
        "    for cls_ind in range(0, cls_prob.shape[1]-1):\n",
        "        cls_scores = cls_prob[:, cls_ind+1]\n",
        "        det_boxes = cls_boxes[:,cls_ind,:]\n",
        "        keep = nms(det_boxes, cls_scores, test_nms_thresh)\n",
        "        # keep = np.array(nms(det_boxes, cls_scores, test_nms_thresh).cpu())\n",
        "        max_conf[keep] = torch.where(cls_scores[keep] > max_conf[keep], cls_scores[keep], max_conf[keep])\n",
        "    keep_boxes = torch.where(max_conf >= test_score_thresh)[0]\n",
        "    return keep_boxes, max_conf"
      ],
      "execution_count": 25,
      "outputs": []
    },
    {
      "cell_type": "code",
      "metadata": {
        "id": "IQqkH3iSUi9D"
      },
      "source": [
        "temp = [select_boxes(cfg, output_boxes[i], scores[i]) for i in range(len(scores))]\n",
        "keep_boxes, max_conf = [],[]\n",
        "for keep_box, mx_conf in temp:\n",
        "    keep_boxes.append(keep_box)\n",
        "    max_conf.append(mx_conf)"
      ],
      "execution_count": 26,
      "outputs": []
    },
    {
      "cell_type": "markdown",
      "metadata": {
        "id": "7GkytYBWUmrc"
      },
      "source": [
        "### Limit the total number of boxes\n",
        "In order to get the box features for the best few proposals and limit the sequence length, we set minimum and maximum boxes and pick those box features"
      ]
    },
    {
      "cell_type": "code",
      "metadata": {
        "colab": {
          "base_uri": "https://localhost:8080/"
        },
        "id": "AS_kxcPCEjUN",
        "outputId": "089d39c7-3192-44f7-a64b-34693ee249ef"
      },
      "source": [
        "keep_boxes"
      ],
      "execution_count": 27,
      "outputs": [
        {
          "output_type": "execute_result",
          "data": {
            "text/plain": [
              "[tensor([ 11,  28,  35,  48,  49,  56,  60,  72,  73,  79,  80,  89,  90,  96,\n",
              "          99, 107, 110, 116, 118, 120, 121, 126, 127, 135, 140, 141, 145, 147,\n",
              "         152, 153, 157, 163, 165, 167, 169, 170, 176, 182, 186, 192, 195, 196,\n",
              "         200, 204, 219, 220, 226, 228, 230, 231, 233, 234, 235, 236, 237, 246,\n",
              "         248, 249, 251, 254, 257, 261, 267, 271, 274, 275, 276, 277, 278, 279,\n",
              "         281, 282, 288, 296, 297, 299, 300, 307, 308, 312, 313, 314, 315, 319,\n",
              "         321, 339, 342, 352, 354, 355, 356, 357, 360, 361, 363, 364, 366, 369,\n",
              "         373, 374, 379, 381, 382, 383, 385, 386, 388, 389, 391, 392, 393, 397,\n",
              "         398, 400, 401, 402, 407, 418, 420, 421, 423, 425, 426, 432, 433, 437,\n",
              "         438, 440, 442, 446, 450, 455, 456, 459, 461, 467, 470, 471, 473, 475,\n",
              "         479, 481, 482, 484, 486, 488, 489, 491, 494, 498, 501, 502, 506, 514,\n",
              "         516, 517, 519, 523, 524, 526, 527, 528, 531, 533, 536, 540, 543, 545,\n",
              "         547, 551, 552, 559, 560, 567, 569, 578, 580, 581, 589, 590, 593, 594,\n",
              "         595, 608, 611, 615, 617, 618, 619, 620, 623, 624, 629, 630, 635, 637,\n",
              "         639, 643, 646, 649, 651, 654, 655, 658, 660, 661, 662, 664, 665, 666,\n",
              "         670, 673, 675, 676, 678, 682, 684, 686, 689, 690, 692, 693, 694, 695,\n",
              "         697, 698, 700, 704, 707, 708, 709, 710, 713, 714, 716, 718, 722, 723,\n",
              "         725, 726, 727, 728, 729, 733, 734, 736, 737, 738, 743, 744, 747, 748,\n",
              "         750, 752, 755, 756, 757, 759, 760, 763, 765, 766, 767, 773, 774, 776,\n",
              "         779, 782, 784, 785, 786, 788, 790, 791, 793, 795, 796, 799, 800, 801,\n",
              "         803, 804, 809, 810, 815, 818, 819, 825, 827, 828, 829, 833, 835, 837,\n",
              "         838, 839, 843, 844, 845, 848, 850, 851, 852, 855, 858, 860, 862, 863,\n",
              "         864, 865, 867, 869, 871, 872, 874, 875, 878, 882, 885, 888, 890, 891,\n",
              "         892, 893, 897, 900, 902, 904, 905, 907, 911, 920, 921, 922, 924, 926,\n",
              "         927, 928, 929, 930, 931, 932, 933, 936, 938, 940, 941, 944, 945, 946,\n",
              "         947, 948, 949, 950, 952, 953, 955, 959, 960, 961, 962, 963, 964, 965,\n",
              "         966, 967, 968, 969, 979, 984, 985, 986, 990, 991, 992, 993, 994, 995,\n",
              "         997, 998, 999], device='cuda:0'),\n",
              " tensor([ 11,  28,  35,  48,  49,  56,  60,  72,  73,  79,  80,  89,  90,  96,\n",
              "          99, 107, 110, 116, 118, 120, 121, 126, 127, 135, 140, 141, 145, 147,\n",
              "         152, 153, 157, 163, 165, 167, 169, 170, 176, 182, 186, 192, 195, 196,\n",
              "         200, 204, 219, 220, 226, 228, 230, 231, 233, 234, 235, 236, 237, 246,\n",
              "         248, 249, 251, 254, 257, 261, 267, 271, 274, 275, 276, 277, 278, 279,\n",
              "         281, 282, 288, 296, 297, 299, 300, 307, 308, 312, 313, 314, 315, 319,\n",
              "         321, 339, 342, 352, 354, 355, 356, 357, 360, 361, 363, 364, 366, 369,\n",
              "         373, 374, 379, 381, 382, 383, 385, 386, 388, 389, 391, 392, 393, 397,\n",
              "         398, 400, 401, 402, 407, 418, 420, 421, 423, 425, 426, 432, 433, 437,\n",
              "         438, 440, 442, 446, 450, 455, 456, 459, 461, 467, 470, 471, 473, 475,\n",
              "         479, 481, 482, 484, 486, 488, 489, 491, 494, 498, 501, 502, 506, 514,\n",
              "         516, 517, 519, 523, 524, 526, 527, 528, 531, 533, 536, 540, 543, 545,\n",
              "         547, 551, 552, 559, 560, 567, 569, 578, 580, 581, 589, 590, 593, 594,\n",
              "         595, 608, 611, 615, 617, 618, 619, 620, 623, 624, 629, 630, 635, 637,\n",
              "         639, 643, 646, 649, 651, 654, 655, 658, 660, 661, 662, 664, 665, 666,\n",
              "         670, 673, 675, 676, 678, 682, 684, 686, 689, 690, 692, 693, 694, 695,\n",
              "         697, 698, 700, 704, 707, 708, 709, 710, 713, 714, 716, 718, 722, 723,\n",
              "         725, 726, 727, 728, 729, 733, 734, 736, 737, 738, 743, 744, 747, 748,\n",
              "         750, 752, 755, 756, 757, 759, 760, 763, 765, 766, 767, 773, 774, 776,\n",
              "         779, 782, 784, 785, 786, 788, 790, 791, 793, 795, 796, 799, 800, 801,\n",
              "         803, 804, 809, 810, 815, 818, 819, 825, 827, 828, 829, 833, 835, 837,\n",
              "         838, 839, 843, 844, 845, 848, 850, 851, 852, 855, 858, 860, 862, 863,\n",
              "         864, 865, 867, 869, 871, 872, 874, 875, 878, 882, 885, 888, 890, 891,\n",
              "         892, 893, 897, 900, 902, 904, 905, 907, 911, 920, 921, 922, 924, 926,\n",
              "         927, 928, 929, 930, 931, 932, 933, 936, 938, 940, 941, 944, 945, 946,\n",
              "         947, 948, 949, 950, 952, 953, 955, 959, 960, 961, 962, 963, 964, 965,\n",
              "         966, 967, 968, 969, 979, 984, 985, 986, 990, 991, 992, 993, 994, 995,\n",
              "         997, 998, 999], device='cuda:0')]"
            ]
          },
          "metadata": {
            "tags": []
          },
          "execution_count": 27
        }
      ]
    },
    {
      "cell_type": "code",
      "metadata": {
        "colab": {
          "base_uri": "https://localhost:8080/"
        },
        "id": "c89clf4PExqn",
        "outputId": "5d6160a3-034f-49ca-8666-1a4acecb6703"
      },
      "source": [
        "max_conf[1].shape, keep_boxes[1].shape"
      ],
      "execution_count": 28,
      "outputs": [
        {
          "output_type": "execute_result",
          "data": {
            "text/plain": [
              "(torch.Size([1000]), torch.Size([381]))"
            ]
          },
          "metadata": {
            "tags": []
          },
          "execution_count": 28
        }
      ]
    },
    {
      "cell_type": "code",
      "metadata": {
        "id": "etvfXqrHUoZg"
      },
      "source": [
        "MIN_BOXES=10\n",
        "MAX_BOXES=100\n",
        "def filter_boxes(keep_boxes, max_conf, min_boxes, max_boxes):\n",
        "    keep_boxes = keep_boxes.tolist()\n",
        "    if len(keep_boxes) < min_boxes:\n",
        "        keep_boxes = torch.argsort(max_conf, dim=-1, descending=True)[:min_boxes]\n",
        "    elif len(keep_boxes) > max_boxes:\n",
        "        keep_boxes = torch.argsort(max_conf, dim=-1, descending=True)[:max_boxes]\n",
        "    return keep_boxes\n",
        "\n",
        "keep_boxes = [filter_boxes(keep_box, mx_conf, MIN_BOXES, MAX_BOXES) for keep_box, mx_conf in zip(keep_boxes, max_conf)]"
      ],
      "execution_count": 29,
      "outputs": []
    },
    {
      "cell_type": "code",
      "metadata": {
        "colab": {
          "base_uri": "https://localhost:8080/"
        },
        "id": "nZI2rJT_IX8i",
        "outputId": "3f87696d-cc12-492f-9d93-9f3668c0c00e"
      },
      "source": [
        "print(keep_boxes)"
      ],
      "execution_count": 30,
      "outputs": [
        {
          "output_type": "stream",
          "text": [
            "[tensor([527, 361, 360, 356, 366, 339, 321, 308, 363, 432, 389, 391, 275, 710,\n",
            "        617, 237, 228, 611, 569, 921, 801, 397, 440, 374, 486, 381, 364, 442,\n",
            "        655, 516, 231, 494, 271, 560, 526, 545, 737, 620, 624, 456, 547, 809,\n",
            "        938, 968, 945, 928, 955, 944, 589, 709, 708, 729, 567, 615, 608, 619,\n",
            "        733, 828, 818, 803, 594, 829, 369, 722, 230, 249, 528, 467, 354, 891,\n",
            "        355, 488, 776, 747, 484, 392, 186, 246, 470, 278, 455, 461, 726, 862,\n",
            "        459, 296, 118, 279, 540, 750, 342, 281, 559, 274, 425, 523, 307, 165,\n",
            "        300, 552], device='cuda:0'), tensor([527, 361, 360, 356, 366, 339, 321, 308, 363, 432, 389, 391, 275, 710,\n",
            "        617, 237, 228, 611, 569, 921, 801, 397, 440, 374, 486, 381, 364, 442,\n",
            "        655, 516, 231, 494, 271, 560, 526, 545, 737, 620, 624, 456, 547, 809,\n",
            "        938, 968, 945, 928, 955, 944, 589, 709, 708, 729, 567, 615, 608, 619,\n",
            "        733, 828, 818, 803, 594, 829, 369, 722, 230, 249, 528, 467, 354, 891,\n",
            "        355, 488, 776, 747, 484, 392, 186, 246, 470, 278, 455, 461, 726, 862,\n",
            "        459, 296, 118, 279, 540, 750, 342, 281, 559, 274, 425, 523, 307, 165,\n",
            "        300, 552], device='cuda:0')]\n"
          ],
          "name": "stdout"
        }
      ]
    },
    {
      "cell_type": "markdown",
      "metadata": {
        "id": "eMU_zh8kUs6W"
      },
      "source": [
        "### Get the visual embeddings :) \n",
        "Finally, the boxes are chosen using the `keep_boxes` indices and from the `box_features` tensor."
      ]
    },
    {
      "cell_type": "code",
      "metadata": {
        "id": "4oVnaqQKUu_4"
      },
      "source": [
        "def get_visual_embeds(box_features, keep_boxes):\n",
        "    return box_features[keep_boxes]\n",
        "\n",
        "visual_embeds = [get_visual_embeds(box_feature, keep_box) for box_feature, keep_box in zip(box_features, keep_boxes)]"
      ],
      "execution_count": 31,
      "outputs": []
    },
    {
      "cell_type": "code",
      "metadata": {
        "colab": {
          "base_uri": "https://localhost:8080/"
        },
        "id": "uh9akLP-U3Tw",
        "outputId": "fb20ccf9-df63-4321-df6a-e9763df04e20"
      },
      "source": [
        "print(visual_embeds[1])"
      ],
      "execution_count": 32,
      "outputs": [
        {
          "output_type": "stream",
          "text": [
            "tensor([[-2.1243, -1.1640,  0.3660,  ..., -1.4735,  0.0277,  0.0483],\n",
            "        [-1.4813, -1.3356,  0.4337,  ..., -1.0201,  0.6654,  0.3161],\n",
            "        [-1.4885, -1.3392,  0.4368,  ..., -1.0193,  0.6685,  0.3138],\n",
            "        ...,\n",
            "        [-0.4201, -0.7561, -0.2984,  ..., -1.7439, -0.6780,  0.0601],\n",
            "        [ 0.1976, -1.3968, -0.5996,  ..., -1.6209,  0.0830,  0.7162],\n",
            "        [ 0.6067, -0.3540,  1.2379,  ..., -0.4087,  0.4993,  0.6308]],\n",
            "       device='cuda:0', grad_fn=<IndexBackward>)\n"
          ],
          "name": "stdout"
        }
      ]
    },
    {
      "cell_type": "markdown",
      "metadata": {
        "id": "6lqAoCK-UzjP"
      },
      "source": [
        "# Run this as a pipeline"
      ]
    },
    {
      "cell_type": "code",
      "metadata": {
        "colab": {
          "base_uri": "https://localhost:8080/"
        },
        "id": "YVgI-Ap18ccH",
        "outputId": "e324ac5a-3c89-43a2-fda4-5ea4054fadaa"
      },
      "source": [
        "!nvidia-smi"
      ],
      "execution_count": 33,
      "outputs": [
        {
          "output_type": "stream",
          "text": [
            "Fri Jul 23 18:59:21 2021       \n",
            "+-----------------------------------------------------------------------------+\n",
            "| NVIDIA-SMI 470.42.01    Driver Version: 460.32.03    CUDA Version: 11.2     |\n",
            "|-------------------------------+----------------------+----------------------+\n",
            "| GPU  Name        Persistence-M| Bus-Id        Disp.A | Volatile Uncorr. ECC |\n",
            "| Fan  Temp  Perf  Pwr:Usage/Cap|         Memory-Usage | GPU-Util  Compute M. |\n",
            "|                               |                      |               MIG M. |\n",
            "|===============================+======================+======================|\n",
            "|   0  Tesla P100-PCIE...  Off  | 00000000:00:04.0 Off |                    0 |\n",
            "| N/A   44C    P0    41W / 250W |   3665MiB / 16280MiB |     12%      Default |\n",
            "|                               |                      |                  N/A |\n",
            "+-------------------------------+----------------------+----------------------+\n",
            "                                                                               \n",
            "+-----------------------------------------------------------------------------+\n",
            "| Processes:                                                                  |\n",
            "|  GPU   GI   CI        PID   Type   Process name                  GPU Memory |\n",
            "|        ID   ID                                                   Usage      |\n",
            "|=============================================================================|\n",
            "|  No running processes found                                                 |\n",
            "+-----------------------------------------------------------------------------+\n"
          ],
          "name": "stdout"
        }
      ]
    },
    {
      "cell_type": "markdown",
      "metadata": {
        "id": "DzFoL54HXO75"
      },
      "source": [
        "import pickle\n",
        "with open('/content/drive/MyDrive/Hateful_Memes/features1.pickle', 'rb') as handle:\n",
        "    b = pickle.load(handle)\n",
        "ids_done = b.keys()\n",
        "print(len(ids_done))"
      ]
    },
    {
      "cell_type": "code",
      "metadata": {
        "id": "fGfybqA1-9jE"
      },
      "source": [
        "model = model.to('cuda')"
      ],
      "execution_count": 34,
      "outputs": []
    },
    {
      "cell_type": "code",
      "metadata": {
        "colab": {
          "base_uri": "https://localhost:8080/",
          "height": 204
        },
        "id": "30mAM5PW4uiy",
        "outputId": "d9662109-25c0-4c60-f5a9-ad369be751f6"
      },
      "source": [
        "df_train['row_id'] = df_train.index\n",
        "df_train.head()"
      ],
      "execution_count": 35,
      "outputs": [
        {
          "output_type": "execute_result",
          "data": {
            "text/html": [
              "<div>\n",
              "<style scoped>\n",
              "    .dataframe tbody tr th:only-of-type {\n",
              "        vertical-align: middle;\n",
              "    }\n",
              "\n",
              "    .dataframe tbody tr th {\n",
              "        vertical-align: top;\n",
              "    }\n",
              "\n",
              "    .dataframe thead th {\n",
              "        text-align: right;\n",
              "    }\n",
              "</style>\n",
              "<table border=\"1\" class=\"dataframe\">\n",
              "  <thead>\n",
              "    <tr style=\"text-align: right;\">\n",
              "      <th></th>\n",
              "      <th>id</th>\n",
              "      <th>img</th>\n",
              "      <th>label</th>\n",
              "      <th>text</th>\n",
              "      <th>row_id</th>\n",
              "    </tr>\n",
              "  </thead>\n",
              "  <tbody>\n",
              "    <tr>\n",
              "      <th>0</th>\n",
              "      <td>42953</td>\n",
              "      <td>img/42953.png</td>\n",
              "      <td>0</td>\n",
              "      <td>its their character not their color that matters</td>\n",
              "      <td>0</td>\n",
              "    </tr>\n",
              "    <tr>\n",
              "      <th>1</th>\n",
              "      <td>23058</td>\n",
              "      <td>img/23058.png</td>\n",
              "      <td>0</td>\n",
              "      <td>don't be afraid to love again everyone is not ...</td>\n",
              "      <td>1</td>\n",
              "    </tr>\n",
              "    <tr>\n",
              "      <th>2</th>\n",
              "      <td>13894</td>\n",
              "      <td>img/13894.png</td>\n",
              "      <td>0</td>\n",
              "      <td>putting bows on your pet</td>\n",
              "      <td>2</td>\n",
              "    </tr>\n",
              "    <tr>\n",
              "      <th>3</th>\n",
              "      <td>37408</td>\n",
              "      <td>img/37408.png</td>\n",
              "      <td>0</td>\n",
              "      <td>i love everything and everybody! except for sq...</td>\n",
              "      <td>3</td>\n",
              "    </tr>\n",
              "    <tr>\n",
              "      <th>4</th>\n",
              "      <td>82403</td>\n",
              "      <td>img/82403.png</td>\n",
              "      <td>0</td>\n",
              "      <td>everybody loves chocolate chip cookies, even h...</td>\n",
              "      <td>4</td>\n",
              "    </tr>\n",
              "  </tbody>\n",
              "</table>\n",
              "</div>"
            ],
            "text/plain": [
              "      id  ... row_id\n",
              "0  42953  ...      0\n",
              "1  23058  ...      1\n",
              "2  13894  ...      2\n",
              "3  37408  ...      3\n",
              "4  82403  ...      4\n",
              "\n",
              "[5 rows x 5 columns]"
            ]
          },
          "metadata": {
            "tags": []
          },
          "execution_count": 35
        }
      ]
    },
    {
      "cell_type": "code",
      "metadata": {
        "colab": {
          "base_uri": "https://localhost:8080/"
        },
        "id": "SwLdOSFM6Vov",
        "outputId": "87f39c74-d8a7-4a9c-98a8-fad22736f780"
      },
      "source": [
        "imgs = df_train['img'].tolist()\n",
        "print(imgs[:5])"
      ],
      "execution_count": 36,
      "outputs": [
        {
          "output_type": "stream",
          "text": [
            "['img/42953.png', 'img/23058.png', 'img/13894.png', 'img/37408.png', 'img/82403.png']\n"
          ],
          "name": "stdout"
        }
      ]
    },
    {
      "cell_type": "code",
      "metadata": {
        "id": "dfj5gSsukoKa"
      },
      "source": [
        "import pickle"
      ],
      "execution_count": 37,
      "outputs": []
    },
    {
      "cell_type": "code",
      "metadata": {
        "id": "f6JNRIevU9Id"
      },
      "source": [
        "def generate_visual_embeddings(df, filename):\n",
        "    features_dict = {}\n",
        "    exceptions = []\n",
        "    MIN_BOXES=10\n",
        "    MAX_BOXES=100\n",
        "    cnt = 0\n",
        "    all_files = df['img'].tolist()\n",
        "    img_ids = df['id'].tolist()\n",
        "    print(\"Num total files: \", len(all_files))\n",
        "    handle = open(filename, 'wb')\n",
        "    for i in range(0, len(all_files), 2):\n",
        "        if cnt%1000 == 0:\n",
        "            print(\"Finished: \", cnt)\n",
        "        ## Get image\n",
        "        try:\n",
        "            img1 = cv2.imread(os.path.join('hateful_memes', all_files[i]))\n",
        "            img2 = cv2.imread(os.path.join('hateful_memes', all_files[i+1]))\n",
        "            img_id1 = img_ids[i]\n",
        "            img_id2 = img_ids[i+1]\n",
        "            # print(img_id1, img_id2, img1.shape, img2.shape)\n",
        "            ## Prepare in proper format\n",
        "            images, batched_inputs = prepare_image_inputs(cfg, [img1, img2])\n",
        "            ## Generate features\n",
        "            features = get_features(model, images)\n",
        "            ## Get proposals from RPN\n",
        "            proposals = get_proposals(model, images, features)\n",
        "            ## Get box features from proposals\n",
        "            box_features, features_list = get_box_features(model, features, proposals)\n",
        "            ## Get prediction logits and boxes\n",
        "            pred_class_logits, pred_proposal_deltas = get_prediction_logits(model, features_list, proposals)\n",
        "            ## Get Faster RCNN scores and boxes\n",
        "            boxes, scores, image_shapes = get_box_scores(cfg, pred_class_logits, pred_proposal_deltas)\n",
        "            ## Scale boxes to original image size\n",
        "            output_boxes = [get_output_boxes(boxes[i], batched_inputs[i], proposals[i].image_size) for i in range(len(proposals))]\n",
        "            ## Select boxes using NMS\n",
        "            temp = [select_boxes(cfg, output_boxes[i], scores[i]) for i in range(len(scores))]\n",
        "            keep_boxes, max_conf = [],[]\n",
        "            for keep_box, mx_conf in temp:\n",
        "                keep_boxes.append(keep_box)\n",
        "                max_conf.append(mx_conf)\n",
        "\n",
        "            ## Limit total number of boxes\n",
        "            keep_boxes = [filter_boxes(keep_box, mx_conf, MIN_BOXES, MAX_BOXES) for keep_box, mx_conf in zip(keep_boxes, max_conf)]\n",
        "            ### Generate visual embeddings\n",
        "            visual_embeds = [get_visual_embeds(box_feature, keep_box) for box_feature, keep_box in zip(box_features, keep_boxes)]\n",
        "            # arr[row_id1] = visual_embeds[0].detach().cpu().numpy()\n",
        "            # arr[row_id2] = visual_embeds[1].detach().cpu().numpy()\n",
        "            features_dict[img_id1] = visual_embeds[0].detach().cpu().numpy()\n",
        "            features_dict[img_id2] = visual_embeds[1].detach().cpu().numpy()\n",
        "            cnt += 1\n",
        "            with open(filename, 'wb') as handle:\n",
        "                pickle.dump(features_dict, handle, protocol=pickle.HIGHEST_PROTOCOL)\n",
        "        except:\n",
        "            print(\"Error processing id: \", img_id1, img_id1)\n",
        "            exceptions.append(img_id1)\n",
        "            exceptions.append(img_id2)"
      ],
      "execution_count": 38,
      "outputs": []
    },
    {
      "cell_type": "code",
      "metadata": {
        "colab": {
          "base_uri": "https://localhost:8080/"
        },
        "id": "4v_I3SDYaiMt",
        "outputId": "0ecbe039-b63d-440e-96c1-d3a93122fd9c"
      },
      "source": [
        "generate_visual_embeddings(df_train, '/content/drive/MyDrive/Hateful_Memes/features_train.pickle')"
      ],
      "execution_count": null,
      "outputs": [
        {
          "output_type": "stream",
          "text": [
            "Num total files:  8500\n",
            "Finished:  0\n"
          ],
          "name": "stdout"
        },
        {
          "output_type": "stream",
          "text": [
            "/usr/local/lib/python3.7/dist-packages/detectron2/structures/boxes.py:284: UserWarning: Output 0 of SliceBackward is a view and is being modified inplace. This view is an output of a function that returns multiple views. Inplace operators on such views are being deprecated and will be forbidden starting from version 1.8. Consider using `unsafe_` version of the function that produced this view or don't modify this view inplace. (Triggered internally at  /pytorch/torch/csrc/autograd/variable.cpp:547.)\n",
            "  self.tensor[:, 0::2] *= scale_x\n",
            "/usr/local/lib/python3.7/dist-packages/detectron2/structures/boxes.py:285: UserWarning: Output 0 of SliceBackward is a view and is being modified inplace. This view is an output of a function that returns multiple views. Inplace operators on such views are being deprecated and will be forbidden starting from version 1.8. Consider using `unsafe_` version of the function that produced this view or don't modify this view inplace. (Triggered internally at  /pytorch/torch/csrc/autograd/variable.cpp:547.)\n",
            "  self.tensor[:, 1::2] *= scale_y\n"
          ],
          "name": "stderr"
        },
        {
          "output_type": "stream",
          "text": [
            "Error processing id:  18257 18257\n",
            "Finished:  1000\n",
            "Error processing id:  10357 10357\n",
            "Finished:  2000\n",
            "Finished:  3000\n"
          ],
          "name": "stdout"
        }
      ]
    },
    {
      "cell_type": "code",
      "metadata": {
        "id": "1pmbatcq6t5j"
      },
      "source": [
        "generate_visual_embeddings(df_val, '/content/drive/MyDrive/Hateful_Memes/features_val.pickle')"
      ],
      "execution_count": null,
      "outputs": []
    },
    {
      "cell_type": "markdown",
      "metadata": {
        "id": "YcUguyEWa34w"
      },
      "source": [
        "from google.colab import files\n",
        "files.download('features.pickle') "
      ]
    },
    {
      "cell_type": "code",
      "metadata": {
        "id": "zbmeBE7BbDRE"
      },
      "source": [
        ""
      ],
      "execution_count": null,
      "outputs": []
    }
  ]
}